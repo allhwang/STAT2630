{
  "nbformat": 4,
  "nbformat_minor": 0,
  "metadata": {
    "colab": {
      "name": "HW 10",
      "provenance": [],
      "authorship_tag": "ABX9TyP/BCSJLVcvVXA+4Z6b0VHf",
      "include_colab_link": true
    },
    "kernelspec": {
      "name": "python3",
      "display_name": "Python 3"
    }
  },
  "cells": [
    {
      "cell_type": "markdown",
      "metadata": {
        "id": "view-in-github",
        "colab_type": "text"
      },
      "source": [
        "<a href=\"https://colab.research.google.com/github/allhwang/STAT2630/blob/main/HW_10.ipynb\" target=\"_parent\"><img src=\"https://colab.research.google.com/assets/colab-badge.svg\" alt=\"Open In Colab\"/></a>"
      ]
    },
    {
      "cell_type": "code",
      "metadata": {
        "id": "MrBNqbJFAj1u"
      },
      "source": [
        "# Stat 2630: Homework 10\r\n",
        "# A random sample of 172 women were given the flu vaccine while pregnant, \r\n",
        "# and a control sample of 168 women were not given the vaccine. \r\n",
        "# Calculate the following (you may use R for calculations, \r\n",
        "# but show or explain your solution.)\r\n",
        "# \r\n",
        "# 1. 8.4% of the control group gave birth before 37 weeks of gestation.\r\n",
        "# (a) Calculate a standard error for this estimate.\r\n",
        "# (b) Calculate a large sample 95% confidence interval for the population proportion p.\r\n",
        "\r\n",
        "n1 = 172\r\n",
        "n2 = 168\r\n"
      ],
      "execution_count": 2,
      "outputs": []
    },
    {
      "cell_type": "code",
      "metadata": {
        "colab": {
          "base_uri": "https://localhost:8080/"
        },
        "id": "n7toZ1bbBYP8",
        "outputId": "4789f785-d5ae-4952-967a-b51af4980b23"
      },
      "source": [
        "# (a)\r\n",
        "phat = 0.084\r\n",
        "se = (phat*(1-phat)/n2)**(1/2)\r\n",
        "se"
      ],
      "execution_count": 3,
      "outputs": [
        {
          "output_type": "execute_result",
          "data": {
            "text/plain": [
              "0.0214009345590327"
            ]
          },
          "metadata": {
            "tags": []
          },
          "execution_count": 3
        }
      ]
    },
    {
      "cell_type": "code",
      "metadata": {
        "id": "KxrfiYD6BgOz"
      },
      "source": [
        "# (b)\r\n",
        "LB = phat - 1.96 * se\r\n",
        "UB = phat + 1.96 * se\r\n"
      ],
      "execution_count": 4,
      "outputs": []
    },
    {
      "cell_type": "code",
      "metadata": {
        "colab": {
          "base_uri": "https://localhost:8080/"
        },
        "id": "9DEk-MdMB16b",
        "outputId": "6261d266-04e7-406e-f74f-f6cf21025bab"
      },
      "source": [
        "(round(LB,4), round(UB,4))"
      ],
      "execution_count": 5,
      "outputs": [
        {
          "output_type": "execute_result",
          "data": {
            "text/plain": [
              "(0.0421, 0.1259)"
            ]
          },
          "metadata": {
            "tags": []
          },
          "execution_count": 5
        }
      ]
    },
    {
      "cell_type": "code",
      "metadata": {
        "id": "0BV35AxpCPP7"
      },
      "source": [
        "# 2. The average birthweight for the vaccine group was 3.13 kg \r\n",
        "# with a standard deviation of .53 kg. The average birthweight \r\n",
        "# for the control group was 3.02 kg with a standard deviation of .45 kg.\r\n",
        "# (a) Estimate the mean difference in birthweight ∆ = µ1 − µ2.\r\n",
        "# (b) Calculate a standard error for your estimate in (a).\r\n",
        "# (c) Calculate a large sample 95% confidence interval for µ1 − µ2.\r\n",
        "xbar = 3.13; s1 = .53\r\n",
        "ybar = 3.02; s2 = .45\r\n"
      ],
      "execution_count": 6,
      "outputs": []
    },
    {
      "cell_type": "code",
      "metadata": {
        "colab": {
          "base_uri": "https://localhost:8080/"
        },
        "id": "rbn3OH7KDEUj",
        "outputId": "28f5be7a-ec87-4366-f35f-0a55bc698b17"
      },
      "source": [
        "# (a)\r\n",
        "delta = xbar - ybar\r\n",
        "delta"
      ],
      "execution_count": 7,
      "outputs": [
        {
          "output_type": "execute_result",
          "data": {
            "text/plain": [
              "0.10999999999999988"
            ]
          },
          "metadata": {
            "tags": []
          },
          "execution_count": 7
        }
      ]
    },
    {
      "cell_type": "code",
      "metadata": {
        "colab": {
          "base_uri": "https://localhost:8080/"
        },
        "id": "9NJMspSkDHSz",
        "outputId": "cd3b5023-67f9-4b48-a1f5-938f7dca2a44"
      },
      "source": [
        "# (b)\r\n",
        "se = (s1**2/n1 + s2**2/n2)**(1/2)\r\n",
        "se"
      ],
      "execution_count": 8,
      "outputs": [
        {
          "output_type": "execute_result",
          "data": {
            "text/plain": [
              "0.05327754384110499"
            ]
          },
          "metadata": {
            "tags": []
          },
          "execution_count": 8
        }
      ]
    },
    {
      "cell_type": "code",
      "metadata": {
        "colab": {
          "base_uri": "https://localhost:8080/"
        },
        "id": "RvZqnaFfDQd7",
        "outputId": "9bfde5c8-5246-494b-d4c4-ad8b40432493"
      },
      "source": [
        "# (c)\r\n",
        "LB = delta - 1.96 * se\r\n",
        "UB = delta + 1.96 * se\r\n",
        "(round(LB,4), round(UB,4))"
      ],
      "execution_count": 9,
      "outputs": [
        {
          "output_type": "execute_result",
          "data": {
            "text/plain": [
              "(0.0056, 0.2144)"
            ]
          },
          "metadata": {
            "tags": []
          },
          "execution_count": 9
        }
      ]
    },
    {
      "cell_type": "code",
      "metadata": {
        "id": "1L2dt71uDY56"
      },
      "source": [
        ""
      ],
      "execution_count": null,
      "outputs": []
    }
  ]
}