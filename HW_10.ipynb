{
  "nbformat": 4,
  "nbformat_minor": 0,
  "metadata": {
    "colab": {
      "name": "HW 10",
      "provenance": [],
      "authorship_tag": "ABX9TyP4ypiAghZKJACDJK7XPR+n",
      "include_colab_link": true
    },
    "kernelspec": {
      "name": "python3",
      "display_name": "Python 3"
    }
  },
  "cells": [
    {
      "cell_type": "markdown",
      "metadata": {
        "id": "view-in-github",
        "colab_type": "text"
      },
      "source": [
        "<a href=\"https://colab.research.google.com/github/allhwang/STAT2630/blob/main/HW_10.ipynb\" target=\"_parent\"><img src=\"https://colab.research.google.com/assets/colab-badge.svg\" alt=\"Open In Colab\"/></a>"
      ]
    },
    {
      "cell_type": "code",
      "metadata": {
        "id": "MrBNqbJFAj1u"
      },
      "source": [
        "# Stat 2630: Homework 10\r\n",
        "# A random sample of 172 women were given the flu vaccine while pregnant, \r\n",
        "# and a control sample of 168 women were not given the vaccine. \r\n",
        "# Calculate the following (you may use R for calculations, \r\n",
        "# but show or explain your solution.)\r\n",
        "# \r\n",
        "# 1. 8.4% of the control group gave birth before 37 weeks of gestation.\r\n",
        "# (a) Calculate a standard error for this estimate.\r\n",
        "# (b) Calculate a large sample 95% confidence interval for the population proportion p.\r\n",
        "\r\n",
        "n1 = 172\r\n",
        "n2 = 168\r\n"
      ],
      "execution_count": 23,
      "outputs": []
    },
    {
      "cell_type": "code",
      "metadata": {
        "colab": {
          "base_uri": "https://localhost:8080/"
        },
        "id": "n7toZ1bbBYP8",
        "outputId": "88b2aa94-7284-4e06-b525-6e6ee0e19a54"
      },
      "source": [
        "# (a)\r\n",
        "phat = 0.084\r\n",
        "se = (phat*(1-phat)/n2)**(1/2)\r\n",
        "se"
      ],
      "execution_count": 24,
      "outputs": [
        {
          "output_type": "execute_result",
          "data": {
            "text/plain": [
              "0.0214009345590327"
            ]
          },
          "metadata": {
            "tags": []
          },
          "execution_count": 24
        }
      ]
    },
    {
      "cell_type": "code",
      "metadata": {
        "id": "KxrfiYD6BgOz"
      },
      "source": [
        "# (b)\r\n",
        "LB = phat - 1.96 * se\r\n",
        "UB = phat + 1.96 * se\r\n"
      ],
      "execution_count": 25,
      "outputs": []
    },
    {
      "cell_type": "code",
      "metadata": {
        "colab": {
          "base_uri": "https://localhost:8080/"
        },
        "id": "9DEk-MdMB16b",
        "outputId": "240a79b6-e7c0-4003-a882-4f803053f638"
      },
      "source": [
        "(round(LB,4), round(UB,4))"
      ],
      "execution_count": 26,
      "outputs": [
        {
          "output_type": "execute_result",
          "data": {
            "text/plain": [
              "(0.0421, 0.1259)"
            ]
          },
          "metadata": {
            "tags": []
          },
          "execution_count": 26
        }
      ]
    },
    {
      "cell_type": "code",
      "metadata": {
        "id": "0BV35AxpCPP7"
      },
      "source": [
        "# 2. The average birthweight for the vaccine group was 3.13 kg \r\n",
        "# with a standard deviation of .53 kg. The average birthweight \r\n",
        "# for the control group was 3.02 kg with a standard deviation of .45 kg.\r\n",
        "# (a) Estimate the mean difference in birthweight ∆ = µ1 − µ2.\r\n",
        "# (b) Calculate a standard error for your estimate in (a).\r\n",
        "# (c) Calculate a large sample 95% confidence interval for µ1 − µ2.\r\n",
        "xbar = 3.13; s1 = .53\r\n",
        "ybar = 3.02; s2 = .45\r\n"
      ],
      "execution_count": 27,
      "outputs": []
    },
    {
      "cell_type": "code",
      "metadata": {
        "colab": {
          "base_uri": "https://localhost:8080/"
        },
        "id": "rbn3OH7KDEUj",
        "outputId": "9fd5da6d-2461-4e7b-d81a-e974b5ddaac1"
      },
      "source": [
        "# (a)\r\n",
        "delta = xbar - ybar\r\n",
        "delta"
      ],
      "execution_count": 28,
      "outputs": [
        {
          "output_type": "execute_result",
          "data": {
            "text/plain": [
              "0.10999999999999988"
            ]
          },
          "metadata": {
            "tags": []
          },
          "execution_count": 28
        }
      ]
    },
    {
      "cell_type": "code",
      "metadata": {
        "colab": {
          "base_uri": "https://localhost:8080/"
        },
        "id": "9NJMspSkDHSz",
        "outputId": "6407b542-6023-4f89-82cc-0c865392f488"
      },
      "source": [
        "# (b)\r\n",
        "se = (s1/n1 + s2/n2)**(1/2)\r\n",
        "se"
      ],
      "execution_count": 29,
      "outputs": [
        {
          "output_type": "execute_result",
          "data": {
            "text/plain": [
              "0.07589444497068701"
            ]
          },
          "metadata": {
            "tags": []
          },
          "execution_count": 29
        }
      ]
    },
    {
      "cell_type": "code",
      "metadata": {
        "colab": {
          "base_uri": "https://localhost:8080/"
        },
        "id": "RvZqnaFfDQd7",
        "outputId": "528ad8ba-0338-4890-85e6-7df0ab831645"
      },
      "source": [
        "# (c)\r\n",
        "LB = delta - 1.96 * se\r\n",
        "UB = delta + 1.96 * se\r\n",
        "(round(LB,4), round(UB,4))"
      ],
      "execution_count": 30,
      "outputs": [
        {
          "output_type": "execute_result",
          "data": {
            "text/plain": [
              "(-0.0388, 0.2588)"
            ]
          },
          "metadata": {
            "tags": []
          },
          "execution_count": 30
        }
      ]
    },
    {
      "cell_type": "code",
      "metadata": {
        "id": "1L2dt71uDY56"
      },
      "source": [
        ""
      ],
      "execution_count": null,
      "outputs": []
    }
  ]
}